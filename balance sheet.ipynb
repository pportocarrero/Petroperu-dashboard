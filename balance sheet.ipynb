{
 "cells": [
  {
   "cell_type": "code",
   "execution_count": 3,
   "metadata": {
    "collapsed": true
   },
   "outputs": [],
   "source": [
    "# SOME LIBRARIES\n",
    "\n",
    "import pandas as pd\n",
    "import os\n",
    "import matplotlib.pyplot as plt"
   ]
  },
  {
   "cell_type": "code",
   "execution_count": 4,
   "outputs": [],
   "source": [
    "# CONFIG\n",
    "\n",
    "os.chdir('C:/Users/pport/MINISTERIO DE ECONOMIA Y FINANZAS/DPFE - DGTP - Pedro - MEF - Pedro - MEF/pportocarrero.MEF/Proyectos/Petroperu/Petroperu dashboard/') # For Win"
   ],
   "metadata": {
    "collapsed": false,
    "pycharm": {
     "name": "#%%\n"
    }
   }
  },
  {
   "cell_type": "code",
   "execution_count": 5,
   "outputs": [],
   "source": [
    "# GET BALANCE SHEET DATA\n",
    "\n",
    "balance_sheet = pd.read_csv('balance_sheet_annual2.csv', delimiter= ';')"
   ],
   "metadata": {
    "collapsed": false,
    "pycharm": {
     "name": "#%%\n"
    }
   }
  },
  {
   "cell_type": "code",
   "execution_count": 6,
   "outputs": [],
   "source": [
    "assets_cash = pd.DataFrame({'año': balance_sheet['year'],'Efectivo y equivalentes de efectivo': balance_sheet['Efectivo y equivalente de efectivo']})"
   ],
   "metadata": {
    "collapsed": false,
    "pycharm": {
     "name": "#%%\n"
    }
   }
  },
  {
   "cell_type": "code",
   "execution_count": 1,
   "outputs": [
    {
     "ename": "NameError",
     "evalue": "name 'os' is not defined",
     "output_type": "error",
     "traceback": [
      "\u001B[1;31m---------------------------------------------------------------------------\u001B[0m",
      "\u001B[1;31mNameError\u001B[0m                                 Traceback (most recent call last)",
      "Input \u001B[1;32mIn [1]\u001B[0m, in \u001B[0;36m<module>\u001B[1;34m\u001B[0m\n\u001B[1;32m----> 1\u001B[0m path \u001B[38;5;241m=\u001B[39m \u001B[43mos\u001B[49m\u001B[38;5;241m.\u001B[39mpath\u001B[38;5;241m.\u001B[39mdirname(\u001B[38;5;18m__file__\u001B[39m)\n",
      "\u001B[1;31mNameError\u001B[0m: name 'os' is not defined"
     ]
    }
   ],
   "source": [
    "path = os.path.dirname(__file__)"
   ],
   "metadata": {
    "collapsed": false,
    "pycharm": {
     "name": "#%%\n"
    }
   }
  },
  {
   "cell_type": "code",
   "execution_count": 7,
   "outputs": [
    {
     "data": {
      "text/plain": "<Figure size 432x288 with 1 Axes>",
      "image/png": "[encoded data removed]"
     },
     "metadata": {
      "needs_background": "light"
     },
     "output_type": "display_data"
    }
   ],
   "source": [
    "plt.plot(assets_cash['año'],assets_cash['Efectivo y equivalentes de efectivo'])\n",
    "plt.title('Efectivo y equivalentes de efectivo')\n",
    "plt.xlabel('Año')\n",
    "plt.ylabel('Miles de S/')\n",
    "plt.show()"
   ],
   "metadata": {
    "collapsed": false,
    "pycharm": {
     "name": "#%%\n"
    }
   }
  },
  {
   "cell_type": "code",
   "execution_count": 8,
   "outputs": [],
   "source": [
    "balance_2014 = assets_cash.loc[assets_cash['año'] == 2016]"
   ],
   "metadata": {
    "collapsed": false,
    "pycharm": {
     "name": "#%%\n"
    }
   }
  },
  {
   "cell_type": "code",
   "execution_count": 9,
   "outputs": [],
   "source": [
    "balance_sheet_summary = pd.DataFrame({'año': balance_sheet['year'],\n",
    "                                      'Activos': balance_sheet['TOTAL ACTIVO'],\n",
    "                                      'Pasivos': balance_sheet['TOTAL PASIVO'],\n",
    "                                      'Patrimonio': balance_sheet['TOTAL PATRIMONIO']\n",
    "                                      })"
   ],
   "metadata": {
    "collapsed": false,
    "pycharm": {
     "name": "#%%\n"
    }
   }
  },
  {
   "cell_type": "code",
   "execution_count": 10,
   "outputs": [],
   "source": [
    "balance_2016 = balance_sheet_summary.loc[balance_sheet_summary['año'] == 2016]\n",
    "del balance_2016['año']\n",
    "balance_2017 = balance_sheet_summary.loc[balance_sheet_summary['año'] == 2017]\n",
    "balance_2018 = balance_sheet_summary.loc[balance_sheet_summary['año'] == 2018]\n",
    "balance_2019 = balance_sheet_summary.loc[balance_sheet_summary['año'] == 2019]\n",
    "balance_2020 = balance_sheet_summary.loc[balance_sheet_summary['año'] == 2020]\n",
    "balance_2021 = balance_sheet_summary.loc[balance_sheet_summary['año'] == 2021]"
   ],
   "metadata": {
    "collapsed": false,
    "pycharm": {
     "name": "#%%\n"
    }
   }
  },
  {
   "cell_type": "code",
   "execution_count": 11,
   "outputs": [],
   "source": [
    "latest_assets = balance_sheet['TOTAL ACTIVO'].iloc[-1]"
   ],
   "metadata": {
    "collapsed": false,
    "pycharm": {
     "name": "#%%\n"
    }
   }
  },
  {
   "cell_type": "code",
   "execution_count": 12,
   "outputs": [],
   "source": [
    "latest_assets_t1 = balance_sheet['TOTAL ACTIVO'].iloc[-2]"
   ],
   "metadata": {
    "collapsed": false,
    "pycharm": {
     "name": "#%%\n"
    }
   }
  },
  {
   "cell_type": "code",
   "execution_count": 13,
   "outputs": [],
   "source": [
    "latest_year = balance_sheet['year'].iloc[-1]"
   ],
   "metadata": {
    "collapsed": false,
    "pycharm": {
     "name": "#%%\n"
    }
   }
  },
  {
   "cell_type": "code",
   "execution_count": 14,
   "outputs": [],
   "source": [
    "assets_summary = pd.DataFrame({'año': balance_sheet['year'],\n",
    "                               'Activo corriente': balance_sheet['Total activo corriente'],\n",
    "                               'Activo no corriente': balance_sheet['Total activo no corriente']})"
   ],
   "metadata": {
    "collapsed": false,
    "pycharm": {
     "name": "#%%\n"
    }
   }
  },
  {
   "cell_type": "code",
   "execution_count": 15,
   "outputs": [],
   "source": [
    "liabilities_summary = pd.DataFrame({'año': balance_sheet['year'],\n",
    "                                    'Pasivo corriente': balance_sheet['Total pasivo corriente'],\n",
    "                                    'Pasivo no corriente': balance_sheet['Total pasivo no corriente']\n",
    "                                    })"
   ],
   "metadata": {
    "collapsed": false,
    "pycharm": {
     "name": "#%%\n"
    }
   }
  },
  {
   "cell_type": "code",
   "execution_count": 16,
   "outputs": [],
   "source": [
    "liquidity_ratio = pd.DataFrame({'año': assets_summary['año'],\n",
    "                                'Ratio de liquidez': balance_sheet['Total activo corriente'] / balance_sheet['Total pasivo corriente']\n",
    "                                })"
   ],
   "metadata": {
    "collapsed": false,
    "pycharm": {
     "name": "#%%\n"
    }
   }
  },
  {
   "cell_type": "code",
   "execution_count": 17,
   "outputs": [],
   "source": [
    "income_statement = pd.read_csv('income_statement.csv', delimiter = ';')"
   ],
   "metadata": {
    "collapsed": false,
    "pycharm": {
     "name": "#%%\n"
    }
   }
  },
  {
   "cell_type": "code",
   "execution_count": 17,
   "outputs": [],
   "source": [],
   "metadata": {
    "collapsed": false,
    "pycharm": {
     "name": "#%%\n"
    }
   }
  }
 ],
 "metadata": {
  "kernelspec": {
   "display_name": "Python 3",
   "language": "python",
   "name": "python3"
  },
  "language_info": {
   "codemirror_mode": {
    "name": "ipython",
    "version": 2
   },
   "file_extension": ".py",
   "mimetype": "text/x-python",
   "name": "python",
   "nbconvert_exporter": "python",
   "pygments_lexer": "ipython2",
   "version": "2.7.6"
  }
 },
 "nbformat": 4,
 "nbformat_minor": 0
}